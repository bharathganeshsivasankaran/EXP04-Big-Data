{
  "nbformat": 4,
  "nbformat_minor": 0,
  "metadata": {
    "colab": {
      "provenance": []
    },
    "kernelspec": {
      "name": "python3",
      "display_name": "Python 3"
    },
    "language_info": {
      "name": "python"
    }
  },
  "cells": [
    {
      "cell_type": "code",
      "execution_count": 1,
      "metadata": {
        "id": "I1v5XRuPjmu9"
      },
      "outputs": [],
      "source": [
        "import pandas as pd\n",
        "from itertools import combinations"
      ]
    },
    {
      "cell_type": "markdown",
      "source": [
        "# Step 1: Load Dataset"
      ],
      "metadata": {
        "id": "UuEEPVWhj3YB"
      }
    },
    {
      "cell_type": "code",
      "source": [
        "df = pd.read_csv('market.csv')\n",
        "transactions = df['Items'].apply(lambda x: x.split(','))"
      ],
      "metadata": {
        "id": "g7Q71QJGj1Un"
      },
      "execution_count": 2,
      "outputs": []
    },
    {
      "cell_type": "code",
      "source": [
        "print(\"🧾 Sample Transactions:\")\n",
        "for i, t in enumerate(transactions[:5], 1):\n",
        "    print(f\"Transaction {i}: {t}\")"
      ],
      "metadata": {
        "colab": {
          "base_uri": "https://localhost:8080/"
        },
        "id": "KEUSv3icj7ad",
        "outputId": "332c40fb-980d-409f-c97a-9b82caddcf58"
      },
      "execution_count": 3,
      "outputs": [
        {
          "output_type": "stream",
          "name": "stdout",
          "text": [
            "🧾 Sample Transactions:\n",
            "Transaction 1: ['Milk', 'Bread', 'Butter']\n",
            "Transaction 2: ['Milk', 'Bread', 'Jam']\n",
            "Transaction 3: ['Bread', 'Butter', 'Cheese']\n",
            "Transaction 4: ['Milk', 'Bread', 'Butter', 'Eggs']\n",
            "Transaction 5: ['Bread', 'Butter', 'Cheese', 'Eggs']\n"
          ]
        }
      ]
    },
    {
      "cell_type": "markdown",
      "source": [
        "# Step 2: Define Minimum Support and Confidence"
      ],
      "metadata": {
        "id": "TdWkXkcAkAbu"
      }
    },
    {
      "cell_type": "code",
      "source": [
        "min_support = 0.3\n",
        "min_confidence = 0.6"
      ],
      "metadata": {
        "id": "h4rUa2S9j-RJ"
      },
      "execution_count": 4,
      "outputs": []
    },
    {
      "cell_type": "markdown",
      "source": [
        "# Step 3: Generate All Possible Items"
      ],
      "metadata": {
        "id": "WAFjTM47kGoP"
      }
    },
    {
      "cell_type": "code",
      "source": [
        "all_items = sorted({item for trans in transactions for item in trans})"
      ],
      "metadata": {
        "id": "hVmRw8UtkExl"
      },
      "execution_count": 5,
      "outputs": []
    },
    {
      "cell_type": "markdown",
      "source": [
        "\n",
        "# Step 4: Function to Calculate Support"
      ],
      "metadata": {
        "id": "rr7pNj6ykLMh"
      }
    },
    {
      "cell_type": "code",
      "source": [
        "def calculate_support(itemset):\n",
        "    count = sum(1 for trans in transactions if itemset.issubset(set(trans)))\n",
        "    return count / len(transactions)"
      ],
      "metadata": {
        "id": "5UJey401kJY3"
      },
      "execution_count": 6,
      "outputs": []
    },
    {
      "cell_type": "markdown",
      "source": [
        "\n",
        "# Step 5: Generate Frequent Itemsets"
      ],
      "metadata": {
        "id": "otaYAYrJkQNW"
      }
    },
    {
      "cell_type": "code",
      "source": [
        "def apriori(transactions, min_support):\n",
        "    freq_itemsets = []\n",
        "    k = 1\n",
        "    current_itemsets = [frozenset([item]) for item in all_items]\n",
        "\n",
        "    while current_itemsets:\n",
        "        valid_itemsets = []\n",
        "        for itemset in current_itemsets:\n",
        "            support = calculate_support(itemset)\n",
        "            if support >= min_support:\n",
        "                valid_itemsets.append((itemset, support))\n",
        "                print(f\"Frequent Itemset: {set(itemset)}, Support: {round(support,2)}\")\n",
        "        freq_itemsets.extend(valid_itemsets)\n",
        "\n",
        "        # Generate next-level candidates\n",
        "        next_items = []\n",
        "        for i in range(len(valid_itemsets)):\n",
        "            for j in range(i+1, len(valid_itemsets)):\n",
        "                union = valid_itemsets[i][0] | valid_itemsets[j][0]\n",
        "                if len(union) == k + 1 and union not in next_items:\n",
        "                    next_items.append(union)\n",
        "        current_itemsets = next_items\n",
        "        k += 1\n",
        "\n",
        "    return freq_itemsets"
      ],
      "metadata": {
        "id": "j42G1tdhkN3W"
      },
      "execution_count": 7,
      "outputs": []
    },
    {
      "cell_type": "markdown",
      "source": [
        "# Step 6: Run Apriori"
      ],
      "metadata": {
        "id": "wQY_fYjikXDn"
      }
    },
    {
      "cell_type": "code",
      "source": [
        "print(\"\\nFrequent Itemsets (Support ≥ 0.3):\")\n",
        "frequent_itemsets = apriori(transactions, min_support)"
      ],
      "metadata": {
        "colab": {
          "base_uri": "https://localhost:8080/"
        },
        "id": "N9EnodIHkVYQ",
        "outputId": "2c4fb38d-159c-4fe8-f8a2-7ea0ed801ec4"
      },
      "execution_count": 8,
      "outputs": [
        {
          "output_type": "stream",
          "name": "stdout",
          "text": [
            "\n",
            "Frequent Itemsets (Support ≥ 0.3):\n",
            "Frequent Itemset: {'Bread'}, Support: 0.95\n",
            "Frequent Itemset: {'Butter'}, Support: 0.8\n",
            "Frequent Itemset: {'Cheese'}, Support: 0.3\n",
            "Frequent Itemset: {'Eggs'}, Support: 0.4\n",
            "Frequent Itemset: {'Jam'}, Support: 0.3\n",
            "Frequent Itemset: {'Milk'}, Support: 0.65\n",
            "Frequent Itemset: {'Butter', 'Bread'}, Support: 0.8\n",
            "Frequent Itemset: {'Bread', 'Cheese'}, Support: 0.3\n",
            "Frequent Itemset: {'Eggs', 'Bread'}, Support: 0.35\n",
            "Frequent Itemset: {'Jam', 'Bread'}, Support: 0.3\n",
            "Frequent Itemset: {'Bread', 'Milk'}, Support: 0.6\n",
            "Frequent Itemset: {'Butter', 'Cheese'}, Support: 0.3\n",
            "Frequent Itemset: {'Butter', 'Milk'}, Support: 0.45\n",
            "Frequent Itemset: {'Butter', 'Bread', 'Cheese'}, Support: 0.3\n",
            "Frequent Itemset: {'Butter', 'Bread', 'Milk'}, Support: 0.45\n"
          ]
        }
      ]
    },
    {
      "cell_type": "markdown",
      "source": [
        "\n",
        "# Step 7: Generate Association Rules"
      ],
      "metadata": {
        "id": "1mRjF_TYkb3u"
      }
    },
    {
      "cell_type": "code",
      "source": [
        "print(\"\\n Association Rules (Confidence ≥ 0.6):\")\n",
        "rules = []\n",
        "for itemset, support in frequent_itemsets:\n",
        "    if len(itemset) > 1:\n",
        "        for i in range(1, len(itemset)):\n",
        "            for antecedent in combinations(itemset, i):\n",
        "                antecedent = set(antecedent)\n",
        "                consequent = itemset - antecedent\n",
        "                if consequent:\n",
        "                    support_X = calculate_support(antecedent)\n",
        "                    support_XY = calculate_support(itemset)\n",
        "                    confidence = support_XY / support_X\n",
        "                    lift = confidence / calculate_support(consequent)\n",
        "                    if confidence >= min_confidence:\n",
        "                        rules.append((antecedent, consequent, support_XY, confidence, lift))\n",
        "                        print(f\"Rule: {antecedent} → {consequent} | \"\n",
        "                              f\"Support: {round(support_XY,2)} | \"\n",
        "                              f\"Confidence: {round(confidence,2)} | \"\n",
        "                              f\"Lift: {round(lift,2)}\")"
      ],
      "metadata": {
        "colab": {
          "base_uri": "https://localhost:8080/"
        },
        "id": "P2xQt9_OkZvm",
        "outputId": "aa91c3c9-5f63-4a3f-98e3-64125ce895ec"
      },
      "execution_count": 9,
      "outputs": [
        {
          "output_type": "stream",
          "name": "stdout",
          "text": [
            "\n",
            " Association Rules (Confidence ≥ 0.6):\n",
            "Rule: {'Butter'} → frozenset({'Bread'}) | Support: 0.8 | Confidence: 1.0 | Lift: 1.05\n",
            "Rule: {'Bread'} → frozenset({'Butter'}) | Support: 0.8 | Confidence: 0.84 | Lift: 1.05\n",
            "Rule: {'Cheese'} → frozenset({'Bread'}) | Support: 0.3 | Confidence: 1.0 | Lift: 1.05\n",
            "Rule: {'Eggs'} → frozenset({'Bread'}) | Support: 0.35 | Confidence: 0.87 | Lift: 0.92\n",
            "Rule: {'Jam'} → frozenset({'Bread'}) | Support: 0.3 | Confidence: 1.0 | Lift: 1.05\n",
            "Rule: {'Bread'} → frozenset({'Milk'}) | Support: 0.6 | Confidence: 0.63 | Lift: 0.97\n",
            "Rule: {'Milk'} → frozenset({'Bread'}) | Support: 0.6 | Confidence: 0.92 | Lift: 0.97\n",
            "Rule: {'Cheese'} → frozenset({'Butter'}) | Support: 0.3 | Confidence: 1.0 | Lift: 1.25\n",
            "Rule: {'Milk'} → frozenset({'Butter'}) | Support: 0.45 | Confidence: 0.69 | Lift: 0.87\n",
            "Rule: {'Cheese'} → frozenset({'Bread', 'Butter'}) | Support: 0.3 | Confidence: 1.0 | Lift: 1.25\n",
            "Rule: {'Butter', 'Cheese'} → frozenset({'Bread'}) | Support: 0.3 | Confidence: 1.0 | Lift: 1.05\n",
            "Rule: {'Bread', 'Cheese'} → frozenset({'Butter'}) | Support: 0.3 | Confidence: 1.0 | Lift: 1.25\n",
            "Rule: {'Milk'} → frozenset({'Bread', 'Butter'}) | Support: 0.45 | Confidence: 0.69 | Lift: 0.87\n",
            "Rule: {'Butter', 'Milk'} → frozenset({'Bread'}) | Support: 0.45 | Confidence: 1.0 | Lift: 1.05\n",
            "Rule: {'Bread', 'Milk'} → frozenset({'Butter'}) | Support: 0.45 | Confidence: 0.75 | Lift: 0.94\n"
          ]
        }
      ]
    },
    {
      "cell_type": "markdown",
      "source": [
        "# Step 8: Identify the Strongest Rule And Conclusion"
      ],
      "metadata": {
        "id": "aiyQoG2Vkg9u"
      }
    },
    {
      "cell_type": "code",
      "source": [
        "if rules:\n",
        "    strongest_rule = max(rules, key=lambda x: x[4])  # highest lift\n",
        "    print(\"\\nStrongest Association Rule:\")\n",
        "    print(f\"{strongest_rule[0]} → {strongest_rule[1]}\")\n",
        "    print(f\"Support: {round(strongest_rule[2], 2)}, \"\n",
        "          f\"Confidence: {round(strongest_rule[3], 2)}, \"\n",
        "          f\"Lift: {round(strongest_rule[4], 2)}\")\n",
        "\n",
        "    print(\"\\nConclusion:\")\n",
        "    print(f\"The pair {strongest_rule[0]} → {strongest_rule[1]} is the strongest association rule.\")\n",
        "    print(\"It indicates that when customers buy\", list(strongest_rule[0])[0],\n",
        "          \"they are highly likely to buy\", list(strongest_rule[1])[0], \"together.\")\n",
        "else:\n",
        "    print(\"\\nNo strong rules found with the given thresholds.\")\n"
      ],
      "metadata": {
        "colab": {
          "base_uri": "https://localhost:8080/"
        },
        "id": "HdWh9KfRlCnx",
        "outputId": "3a280a3f-0c47-4511-cf63-08e3147338d4"
      },
      "execution_count": 12,
      "outputs": [
        {
          "output_type": "stream",
          "name": "stdout",
          "text": [
            "\n",
            "Strongest Association Rule:\n",
            "{'Cheese'} → frozenset({'Butter'})\n",
            "Support: 0.3, Confidence: 1.0, Lift: 1.25\n",
            "\n",
            "Conclusion:\n",
            "The pair {'Cheese'} → frozenset({'Butter'}) is the strongest association rule.\n",
            "It indicates that when customers buy Cheese they are highly likely to buy Butter together.\n"
          ]
        }
      ]
    }
  ]
}